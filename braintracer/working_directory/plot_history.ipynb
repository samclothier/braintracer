{
 "cells": [
  {
   "cell_type": "code",
   "execution_count": null,
   "id": "276df249-b790-4e9c-9dda-85375adb8f51",
   "metadata": {},
   "outputs": [],
   "source": [
    "# 294 SCm, 302 SCs, 701 VNC, 549 TH, 795 PAG, 528 CBX, 128 MRN, 1048 GRN, 477 STR, 31 ACA, 672 CP, 771 P, 500 MO, \n",
    "# 453 SS, 519 CBN, 749 VTA\n",
    "# cerebellar cortex with LS and LV\n",
    "btp.probability_map('r', area_num=528, subregions=[1007,928], binsize=50, axis=2, sigma=1, projcol='k', vlim=0.5)\n",
    "probability_map_overlap('r', True, area_num=528, subregions=[1007,928], binsize=50, axis=2, sigma=1, projcol='k')\n",
    "# IO\n",
    "btp.probability_map('r', area_num=83, subregions=None, binsize=50, axis=2, sigma=1, projcol='k', vlim=0.5)\n",
    "btp.probability_map('r', area_num=83, binsize=50, axis=2, sigma=1.5, subregions=None, projcol='k', vlim=0.6)\n",
    "probability_map_overlap('r', True, area_num=83, subregions=None, binsize=50, axis=2, sigma=1, projcol='k')\n",
    "# CbN all subregions\n",
    "btp.probability_map('r', area_num=519, subregions=[846,989,91,589508455], binsize=50, axis=2, sigma=1, projcol='k', vlim=0.1) # 0.2\n",
    "probability_map_overlap('r', True, area_num=519, subregions=[846,989,91,589508455], binsize=50, axis=2, sigma=1, projcol='k')\n",
    "# P\n",
    "probability_map_overlap('r', True, area_num=771, subregions=[931,146], binsize=50, axis=2, sigma=1, projcol='k')\n",
    "# motor cortex with primary and secondary\n",
    "btp.probability_map('r', area_num=500, subregions=[985,993], binsize=50, axis=0, sigma=1, projcol='k', vlim=0.04)\n",
    "# TH\n",
    "btp.probability_map('r', area_num=549, binsize=50, axis=2, sigma=1.5, subregions=[629], projcol='k', vlim=None) #0.25\n",
    "# thalamus with VAL complex\n",
    "btp.probability_map('r', area_num=549, subregions=[629], binsize=50, axis=2, sigma=1, projcol='k', vlim=0.025) # 0.175, 0.25\n",
    "# red nucleus\n",
    "btp.probability_map('r', area_num=214, subregions=None, binsize=50, axis=2, sigma=1, projcol='k', vlim=0.3)\n",
    "# SCm intermediate grey layer\n",
    "btp.probability_map('r', area_num=10, subregions=None, binsize=50, axis=2, sigma=1, projcol='k', vlim=0.07) # 0.3\n",
    "# SCm\n",
    "btp.probability_map('r', area_num=294, subregions=None, binsize=50, axis=2, sigma=1, projcol='k', vlim=0.08) #0.25\n",
    "# SCiw\n",
    "btp.probability_map('r', area_num=17, subregions=None, binsize=50, axis=2, sigma=1, projcol='k', vlim=0.05)\n",
    "# SCdg\n",
    "btp.probability_map('r', area_num=26, binsize=50, axis=2, sigma=1.5, subregions=None, projcol='k', vlim=0.35)\n",
    "# pons\n",
    "btp.probability_map('r', area_num=771, subregions=None, binsize=50, axis=2, sigma=1, projcol='k', vlim=0.03)\n",
    "# THCL\n",
    "btp.probability_map('r', area_num=575, subregions=None, binsize=50, axis=2, sigma=1, projcol='k', vlim=0.175)\n",
    "# THLP\n",
    "btp.probability_map('r', area_num=218, subregions=None, binsize=50, axis=2, sigma=1, projcol='k', vlim=0.08)\n",
    "# THVPL\n",
    "btp.probability_map('r', area_num=718, subregions=None, binsize=50, axis=2, sigma=1, projcol='k', vlim=0.07)\n",
    "# LGDco\n",
    "btp.probability_map('r', area_num=496345668, subregions=None, binsize=50, axis=2, sigma=1, projcol='k', vlim=0.15)\n",
    "# VNC\n",
    "btp.probability_map('r', area_num=701, subregions=[209,202,225,217], binsize=50, axis=2, sigma=1, projcol='k', vlim=0.1)\n",
    "btp.probability_map('r', area_num=701, binsize=50, axis=2, sigma=1.5, subregions=None, projcol='k', vlim=0.3)\n",
    "probability_map_overlap('r', True, area_num=701, subregions=None, binsize=50, axis=2, sigma=1, projcol='k')\n",
    "# LRN\n",
    "btp.probability_map('r', area_num=235, binsize=50, axis=2, sigma=1.5, subregions=None, projcol='k', vlim=0.35)\n",
    "probability_map_overlap('r', True, area_num=235, subregions=None, binsize=50, axis=2, sigma=1, projcol='k')\n",
    "# ICB\n",
    "btp.probability_map('r', area_num=372, binsize=50, axis=2, sigma=1.5, subregions=None, projcol='k', vlim=1.2)\n",
    "# PAG\n",
    "btp.probability_map('r', area_num=795, binsize=50, axis=0, sigma=1, subregions=None, projcol='k', vlim=0.3) # 0.225\n",
    "probability_map_overlap('r', True, area_num=795, subregions=None, binsize=50, axis=2, sigma=1, projcol='k')\n",
    "# GRN\n",
    "btp.probability_map('r', area_num=1048, binsize=50, axis=2, sigma=1, subregions=None, projcol='k', vlim=0.3)\n",
    "# MARN\n",
    "btp.probability_map('r', area_num=307, binsize=50, axis=0, sigma=1, subregions=None, projcol='k', vlim=0.45)\n",
    "# MDRN - use this\n",
    "btp.probability_map('r', area_num=395, subregions=[1098], binsize=50, axis=2, sigma=1, projcol='k', vlim=0.08)\n",
    "# MDRNd\n",
    "btp.probability_map('r', area_num=1098, binsize=50, axis=2, sigma=1.5, subregions=None, projcol='k', vlim=0.3)\n",
    "# PARN\n",
    "btp.probability_map('r', area_num=852, binsize=50, axis=2, sigma=1, subregions=None, projcol='k', vlim=0.3)\n",
    "# PRNr\n",
    "btp.probability_map('r', area_num=146, binsize=50, axis=2, sigma=1, subregions=None, projcol='k', vlim=0.15)\n",
    "# MV\n",
    "btp.probability_map('r', area_num=202, binsize=50, axis=2, sigma=1.5, subregions=None, projcol='k', vlim=0.3)"
   ]
  },
  {
   "cell_type": "code",
   "execution_count": null,
   "id": "9bf280ff-13bc-40ec-aa46-9075259cb7ef",
   "metadata": {},
   "outputs": [],
   "source": [
    "# old format of function\n",
    "dmap_corr_scatter_binned(ax1_data_DCN, ax2_data_DCN, 'DCN', -0.001, 0.06)\n",
    "dmap_corr_scatter_binned(ax1_data_CBX, ax2_data_CBX, 'Cbx', -0.0002, 0.012, s=1)\n",
    "dmap_corr_scatter_binned(ax1_data_IO, ax2_data_IO, 'IO', -0.005, 0.4)\n",
    "dmap_corr_scatter_binned(ax1_data_P, ax2_data_P, 'P', -0.001, 0.08, 1)\n",
    "dmap_corr_scatter_binned(ax1_data_PAG, ax2_data_PAG, 'PAG', -0.002, 0.12)\n",
    "dmap_corr_scatter_binned(ax1_data_VNC, ax2_data_VNC, 'VNC', -0.002, 0.1, 1)\n",
    "dmap_corr_scatter_binned(ax1_data_LRN, ax2_data_LRN, 'LRN', -0.002, 0.12)"
   ]
  },
  {
   "cell_type": "code",
   "execution_count": null,
   "id": "dddff4db-ca62-4566-8b7e-7ffc3db00269",
   "metadata": {},
   "outputs": [],
   "source": [
    "dmap_corr_scatter_contoured('CBX', ax1_data2, ax2_data2, nlevels=10, min_thresh=0.002)\n",
    "dmap_corr_scatter_contoured('CBN', ax1_data1, ax2_data1, nlevels=100, min_thresh=0.005)\n",
    "dmap_corr_scatter_contoured('IO', ax1_data3, ax2_data3, nlevels=100, min_thresh=0.005)\n",
    "dmap_corr_scatter_contoured('P', ax1_data4, ax2_data4, nlevels=100, min_thresh=0.005)\n",
    "dmap_corr_scatter_contoured('PAG', ax1_data5, ax2_data5, nlevels=100, min_thresh=0.006)\n",
    "dmap_corr_scatter_contoured('VNC', ax1_data6, ax2_data6, nlevels=100, min_thresh=0.005)\n",
    "dmap_corr_scatter_contoured('LRN', ax1_data7, ax2_data7, nlevels=100, min_thresh=0.004)"
   ]
  },
  {
   "cell_type": "code",
   "execution_count": null,
   "id": "0133480d-110c-4468-be9a-a3e00853ac78",
   "metadata": {},
   "outputs": [],
   "source": [
    "btp.region_signal_matrix(bta.cerebellar_cortex_antero(), value_norm=None, cmap=[cmap_LV, cmap_LS], figsize=(3,6), vbounds=(None,None), fluorescence=True, log_plot=False)\n",
    "btp.region_signal_matrix(bta.inputs_antero_MF_roi_crop(), value_norm='custom_pedestal', cmap=[cmap_LV, cmap_LS], figsize=(3,6), vbounds=(None,150_000), fluorescence=True, log_plot=False)\n",
    "btp.region_signal_matrix(bta.inputs_antero_CF(), value_norm=None, cmap=[cmap_LV, cmap_LS], figsize=(3,6), vbounds=(None,None), fluorescence=True, log_plot=False)\n",
    "btp.region_signal_matrix(bta.mono_outputs_antero(), value_norm='custom_pedestal', cmap=[cmap_LV, cmap_LS], figsize=(3,6), vbounds=(None,None), fluorescence=True, log_plot=False)\n",
    "btp.region_signal_matrix(bta.di_outputs_antero_roi(0.0000001250, 'custom_pedestal', True), value_norm='custom_pedestal', cmap=[cmap_LV, cmap_LS], figsize=(3,6), vbounds=(None,10_000), fluorescence=True, log_plot=False)\n",
    "region_signal_matrix(bta.di_outputs_antero_roi(0.00000005, 'custom_pedestal', True), value_norm='custom_pedestal', figsize=(7,6), vbounds=(None,0.0000002), fluorescence=True, log_plot=False)"
   ]
  },
  {
   "cell_type": "code",
   "execution_count": null,
   "id": "475f1ef5-411e-49ae-a4e3-4a552a637805",
   "metadata": {},
   "outputs": [],
   "source": [
    "tindxs, ttitle = bta.di_inputs_retro(0.5, 'total', False)\n",
    "areas, _ = btp.region_signal_matrix((tindxs, ttitle), value_norm='presynaptics', figsize=(7,6), vmax=7, fluorescence=False, log_plot=False)\n",
    "tindxs, ttitle = bta.cerebellar_cortex_antero()\n",
    "areas, _ = btp.region_signal_matrix((tindxs, ttitle), value_norm=None, figsize=(7,6), vmax=None, fluorescence=True, log_plot=False)\n",
    "tindxs, ttitle = bta.inputs_antero_MF_roi_crop()\n",
    "areas, _ = btp.region_signal_matrix((tindxs, ttitle), value_norm='custom_pedestal', figsize=(7,6), vmax=0.000008, fluorescence=True, log_plot=False)\n",
    "tindxs, ttitle = bta.inputs_antero_CF('both')\n",
    "areas, _ = btp.region_signal_matrix((tindxs, ttitle), value_norm='none', figsize=(7,6), vmax=200000, fluorescence=True, log_plot=False)\n",
    "tindxs, ttitle = bta.mono_outputs_antero()\n",
    "areas, _ = btp.region_signal_matrix((tindxs, ttitle), value_norm='custom_pedestal', figsize=(7,6), vmax=0.00012, fluorescence=True, log_plot=False)\n",
    "tindxs, ttitle = bta.di_outputs_antero_roi(0.00000005, 'custom_pedestal', True)\n",
    "areas, _ = btp.region_signal_matrix((tindxs, ttitle), value_norm='custom_pedestal', figsize=(7,6), vmax=0.0000002, fluorescence=True, log_plot=False)"
   ]
  },
  {
   "cell_type": "code",
   "execution_count": null,
   "id": "ecc8b397-c296-4db1-9807-0c6345bf67b7",
   "metadata": {},
   "outputs": [],
   "source": []
  }
 ],
 "metadata": {
  "kernelspec": {
   "display_name": "Python 3 (ipykernel)",
   "language": "python",
   "name": "python3"
  },
  "language_info": {
   "codemirror_mode": {
    "name": "ipython",
    "version": 3
   },
   "file_extension": ".py",
   "mimetype": "text/x-python",
   "name": "python",
   "nbconvert_exporter": "python",
   "pygments_lexer": "ipython3",
   "version": "3.10.6"
  }
 },
 "nbformat": 4,
 "nbformat_minor": 5
}

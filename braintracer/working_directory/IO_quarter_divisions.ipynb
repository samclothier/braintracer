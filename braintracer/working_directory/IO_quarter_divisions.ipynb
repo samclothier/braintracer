{
 "cells": [
  {
   "cell_type": "code",
   "execution_count": null,
   "id": "5baf05d6-24eb-4218-b338-be3eec127e88",
   "metadata": {},
   "outputs": [],
   "source": [
    "# set IO divisions\n",
    "IO_left, IO_x_mid, IO_right =  568, 615, 678\n",
    "IO_front, IO_z_mid, IO_back = 1128, 1185, 1279\n",
    "\n",
    "# rostral medial\n",
    "q1_minX, q1_maxX = IO_left, IO_x_mid\n",
    "q1_minZ, q1_maxZ = IO_front, IO_z_mid\n",
    "\n",
    "# rostral lateral\n",
    "q2_minX, q2_maxX = IO_x_mid, IO_right\n",
    "q2_minZ, q2_maxZ = IO_front, IO_z_mid\n",
    "\n",
    "# caudal medial\n",
    "q3_minX, q3_maxX = IO_left, IO_x_mid\n",
    "q3_minZ, q3_maxZ = IO_z_mid, IO_back\n",
    "\n",
    "# caudal lateral\n",
    "q4_minX, q4_maxX = IO_x_mid, IO_right\n",
    "q4_minZ, q4_maxZ = IO_z_mid, IO_back"
   ]
  },
  {
   "cell_type": "code",
   "execution_count": null,
   "id": "c6a6f7dd-5f57-4b0e-b534-a105fd041a9f",
   "metadata": {},
   "outputs": [],
   "source": [
    "def total_along_axis(channel, dataset, axis, binsize, atlas_res=10):\n",
    "    parent, children = bt.children_from(83, depth=0)\n",
    "    areas = [parent] + children\n",
    "    points = np.array(bt._get_cells_in(areas, dataset, channel)).T\n",
    "    x_bins, y_bins, z_bins = btp.get_bins(0, binsize), btp.get_bins(1, binsize), btp.get_bins(2, binsize)\n",
    "    hist, _ = np.histogramdd(points, bins=(x_bins, y_bins, z_bins), range=((0,1140),(0,800),(0,1320)), normed=False)\n",
    "    if hist.sum() != 0:\n",
    "        hist = hist / hist.sum() # turn into probability density distribution\n",
    "    else:\n",
    "        print('Warning: did not perform conversion to probability density')\n",
    "    hist = np.sum(hist, axis=axis) # take the maximum projection of the distribution\n",
    "    av_im = hist if axis == 0 else hist.T # side-on orientation does not need axis swapping\n",
    "    tot_along_axis = np.sum(av_im, axis=0) # condense onto axis for splitting\n",
    "    return tot_along_axis"
   ]
  },
  {
   "cell_type": "code",
   "execution_count": null,
   "id": "85203e67-01eb-4387-a209-9f8b7499bb1e",
   "metadata": {},
   "outputs": [],
   "source": [
    "# no longer needed\n",
    "def num_in_quarter(minX, maxX, minZ, maxZ):\n",
    "    cells_x, _, cells_z = bt._get_cells_in(83, d, channel='r', left=None)\n",
    "    x_filtered_idxs = [i for i, x in enumerate(cells_x) if x > minX and x < maxX]\n",
    "    z_filtered_idxs = [i for i, z in enumerate(cells_z) if z > minZ and z < maxZ]\n",
    "    num_in_bounds = len([c for i, c in enumerate(cells_x) if i in x_filtered_idxs and i in z_filtered_idxs])\n",
    "    return num_in_bounds\n",
    "\n",
    "area_labels = ['IO, rostral medial', 'IO, rostral lateral', 'IO, caudal medial', 'IO, caudal lateral']\n",
    "num_cells_in_each_quarter = []\n",
    "for d in bt.datasets:\n",
    "    q1_num = num_in_quarter(q1_minX, q1_maxX, q1_minZ, q1_maxZ)\n",
    "    q2_num = num_in_quarter(q2_minX, q2_maxX, q2_minZ, q2_maxZ)\n",
    "    q3_num = num_in_quarter(q3_minX, q3_maxX, q3_minZ, q3_maxZ)\n",
    "    q4_num = num_in_quarter(q4_minX, q4_maxX, q4_minZ, q4_maxZ)\n",
    "    num_cells_in_each_quarter.append([q1_num, q2_num, q3_num, q4_num])\n",
    "print(num_cells_in_each_quarter)"
   ]
  },
  {
   "cell_type": "code",
   "execution_count": null,
   "id": "eada9964-2713-452c-be79-768a02e7bf41",
   "metadata": {},
   "outputs": [],
   "source": [
    "def num_in_quarter(axis, split, dataset):\n",
    "        cells_along_axis = total_along_axis('r', dataset, axis, 50) # 2 is along x axis\n",
    "        cells_in_side1 = np.sum(cells_along_axis[:split])\n",
    "        cells_in_side2 = np.sum(cells_along_axis[split:])\n",
    "        return cells_in_side1, cells_in_side2"
   ]
  }
 ],
 "metadata": {
  "kernelspec": {
   "display_name": "Python 3 (ipykernel)",
   "language": "python",
   "name": "python3"
  },
  "language_info": {
   "codemirror_mode": {
    "name": "ipython",
    "version": 3
   },
   "file_extension": ".py",
   "mimetype": "text/x-python",
   "name": "python",
   "nbconvert_exporter": "python",
   "pygments_lexer": "ipython3",
   "version": "3.10.6"
  }
 },
 "nbformat": 4,
 "nbformat_minor": 5
}

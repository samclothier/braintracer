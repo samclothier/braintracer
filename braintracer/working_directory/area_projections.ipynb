{
 "cells": [
  {
   "cell_type": "markdown",
   "id": "72243fbd-5ce1-4bcb-b912-e98e3a53a658",
   "metadata": {},
   "source": [
    "# 3D Area Projections"
   ]
  },
  {
   "cell_type": "code",
   "execution_count": 1,
   "id": "76091d81-a4f2-420e-a374-16282898f3f3",
   "metadata": {},
   "outputs": [],
   "source": [
    "import os, sys, imio, tifffile\n",
    "from skimage.io import imread, imread_collection, concatenate_images\n",
    "from braintracer.braintracer import file_management as btf\n",
    "from braintracer.braintracer import analysis as bt\n",
    "from braintracer.braintracer import plotting as btp\n",
    "import matplotlib.pyplot as plt\n",
    "import numpy as np"
   ]
  },
  {
   "cell_type": "code",
   "execution_count": 2,
   "id": "5f2de4b3-3cf6-44da-a7ce-393a588de733",
   "metadata": {},
   "outputs": [],
   "source": [
    "## DEFINE YOUR EXPERIMENT\n",
    "bt.postsyn_region = 'VTA' # You must set a starter region to use some features\n",
    "# For quantifications comparing pre and postsynaptic cell populations, you must set the following:\n",
    "bt.postsyn_ch = 'r' # The channel(s) containing starter cells (postsynaptics)\n",
    "bt.presyn_ch = 'r' # The channel(s) containing input cells (presynaptics)\n",
    "bt.presyn_regions_exclude = [''] # Presynaptic cells are the total cells in presyn_ch - (postsyn_region + presyn_regions_exclude)\n",
    "\n",
    "bt.channel_colours = ['r','g','b'] # ordered list of colours channels will take ['r','g','b'] by default\n",
    "bt.network_name = 'bt14' # default is Unet\n",
    "bt.grouped = False #True # True by default, set to False if you only have one group\n",
    "bt.debug = False # False by default"
   ]
  },
  {
   "cell_type": "code",
   "execution_count": 3,
   "id": "45580742-fc72-45ff-a85b-47086ea05d03",
   "metadata": {},
   "outputs": [],
   "source": [
    "def open_image(name):\n",
    "    path = f'braintracer/registered_atlases/atlas_{name}_{bt.postsyn_ch}.tiff'\n",
    "    assert os.path.isfile(path), f'Please provide binarised stack coordinates at {path}'\n",
    "    coordinates = imread(path)\n",
    "    return coordinates"
   ]
  },
  {
   "cell_type": "code",
   "execution_count": 26,
   "id": "d313a754-0ab3-49f5-88ce-de89b9a62c53",
   "metadata": {},
   "outputs": [],
   "source": [
    "def _get_projection(area, dset_name, slice_details=None, padding=None, axis=0):\n",
    "    if isinstance(area, list):\n",
    "        areas = []\n",
    "        for i in area:\n",
    "            parent, children = bt.children_from(i, depth=0)\n",
    "            areas = areas + [parent] + children\n",
    "    else:\n",
    "        area = 83 if area in ['Rostral-medial IO', 'Rostral-lateral IO', 'Caudal-medial IO', 'Caudal-lateral IO', 'Medial IO', 'Lateral IO', 'Rostral IO', 'Caudal IO'] else area\n",
    "        parent, children = bt.children_from(area, depth=0)\n",
    "        areas = [parent] + children\n",
    "    \n",
    "    reg_atlas = open_image(dset_name)\n",
    "    print(reg_atlas.shape)\n",
    "    if slice_details is not None:\n",
    "        atlas_total = reg_atlas.shape[0]\n",
    "        start = int(slice_details['start'] / slice_details['total'] * atlas_total)\n",
    "        end = int(slice_details['end'] / slice_details['total'] * atlas_total)\n",
    "        print(start, end)\n",
    "        reg_atlas = reg_atlas[start:end,:,:]\n",
    "    print(reg_atlas.shape)\n",
    "    \n",
    "    atlas_ar = np.isin(reg_atlas, areas)\n",
    "\n",
    "    nz = np.nonzero(atlas_ar)\n",
    "    z_min, y_min, x_min = nz[0].min(), nz[1].min(), nz[2].min()\n",
    "    z_max, y_max, x_max = nz[0].max()+1, nz[1].max()+1, nz[2].max()+1\n",
    "    \n",
    "    if padding is not None:\n",
    "        z_min, y_min, x_min = z_min - padding, y_min - padding, x_min - padding\n",
    "        z_max, y_max, x_max = z_max + padding, y_max + padding, x_max + padding\n",
    "    if (z_max > atlas_ar.shape[0]) or (y_max > atlas_ar.shape[1]) or (x_max > atlas_ar.shape[2]):\n",
    "        print('Watch out! Remove padding for areas that touch the edge of the atlas.')\n",
    "    if (z_min < 0) or (y_min < 0) or (x_min < 0):\n",
    "        print('Watch out! Remove padding for areas that touch the edge of the atlas.')\n",
    "    if bt.debug:\n",
    "        print('x:'+str(x_min)+' '+str(x_max)+' y:'+str(y_min)+' '+str(y_max)+' z:'+str(z_min)+' '+str(z_max))\n",
    "    if padding is not None:\n",
    "        atlas_ar = atlas_ar[z_min : z_max,\n",
    "                             y_min : y_max,\n",
    "                             x_min : x_max]\n",
    "\n",
    "    projection = atlas_ar.any(axis=2-axis)\n",
    "    projection = projection.astype(int)\n",
    "    projection = projection.T if axis == 0 else projection # side-on orientation does not need axis swapping\n",
    "    return projection, (x_min, y_min, z_min), (x_max, y_max, z_max)"
   ]
  },
  {
   "cell_type": "code",
   "execution_count": 27,
   "id": "0de4ced5-b675-43b1-9140-42bf66a14ad6",
   "metadata": {},
   "outputs": [],
   "source": [
    "def full_frame(width=None, height=None):\n",
    "    import matplotlib as mpl\n",
    "    mpl.rcParams['savefig.pad_inches'] = 0\n",
    "    figsize = None if width is None else (width, height)\n",
    "    fig = plt.figure(figsize=figsize)\n",
    "    ax = plt.axes([0,0,1,1], frameon=False)\n",
    "    ax.get_xaxis().set_visible(False)\n",
    "    ax.get_yaxis().set_visible(False)\n",
    "    plt.autoscale(tight=True)"
   ]
  },
  {
   "cell_type": "markdown",
   "id": "332d287c-e2c5-4fc8-b945-794d5ffaf446",
   "metadata": {},
   "source": [
    "## Setup"
   ]
  },
  {
   "cell_type": "code",
   "execution_count": 30,
   "id": "5629055c-fbbb-4ed9-8a8a-ac515c088267",
   "metadata": {},
   "outputs": [],
   "source": [
    "NAME = 'SC001'\n",
    "area = 1128\n",
    "axis = 2\n",
    "projcol = 'k'"
   ]
  },
  {
   "cell_type": "code",
   "execution_count": 31,
   "id": "ac96fd67-ecbe-4f25-a979-6ac89647276c",
   "metadata": {},
   "outputs": [
    {
     "name": "stdout",
     "output_type": "stream",
     "text": [
      "(494, 513, 563)\n",
      "139 169\n",
      "(30, 513, 563)\n",
      "(513, 563)\n"
     ]
    },
    {
     "data": {
      "image/png": "[encoded data removed]"
     },
     "metadata": {},
     "output_type": "display_data"
    }
   ],
   "source": [
    "full_frame()\n",
    "slice_details = {'start':700,\n",
    "                'end':850,\n",
    "                'total':2472}\n",
    "projection = _get_projection(area, NAME, slice_details=slice_details, axis=axis)[0]\n",
    "print(projection.shape)\n",
    "#plt.imshow(projection)\n",
    "plt.contour(projection, colors=projcol, alpha=0.1)\n",
    "plt.gca().set_aspect('equal')\n",
    "plt.gca().invert_yaxis()\n",
    "\n",
    "start = slice_details['start']\n",
    "end = slice_details['end']\n",
    "btf.save(f'{NAME}_{area}_{start}-{end}', as_type='png')\n",
    "plt.show()"
   ]
  },
  {
   "cell_type": "code",
   "execution_count": null,
   "id": "6cfd1d79-1db2-420d-9e50-e11bab3597ce",
   "metadata": {},
   "outputs": [],
   "source": []
  }
 ],
 "metadata": {
  "kernelspec": {
   "display_name": "Python 3 (ipykernel)",
   "language": "python",
   "name": "python3"
  },
  "language_info": {
   "codemirror_mode": {
    "name": "ipython",
    "version": 3
   },
   "file_extension": ".py",
   "mimetype": "text/x-python",
   "name": "python",
   "nbconvert_exporter": "python",
   "pygments_lexer": "ipython3",
   "version": "3.10.6"
  }
 },
 "nbformat": 4,
 "nbformat_minor": 5
}

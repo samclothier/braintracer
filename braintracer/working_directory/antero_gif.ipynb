{
 "cells": [
  {
   "cell_type": "code",
   "execution_count": 1,
   "id": "8dde7e65-87f6-4032-9405-9d668b4dc614",
   "metadata": {},
   "outputs": [],
   "source": [
    "import braintracer.file_management as btf\n",
    "import braintracer.analysis as bt\n",
    "import braintracer.plotting as btp"
   ]
  },
  {
   "cell_type": "code",
   "execution_count": 2,
   "id": "3191b08a-4914-45b9-8cdb-cf1b02e4a26f",
   "metadata": {},
   "outputs": [],
   "source": [
    "bt.debug = False # False by default\n",
    "bt.grouped = True # True by default, set to False if you only have one group\n",
    "bt.starter_region = 'IO' # You must set a starter region to use some features\n",
    "bt.starter_ch1 = True # True - starter cells (postsynaptics) in ch1; False - ch2; None - sum both channels\n",
    "bt.fluorescence = False"
   ]
  },
  {
   "cell_type": "code",
   "execution_count": 3,
   "id": "a422bf27-b4b9-491f-9913-936de7824df8",
   "metadata": {},
   "outputs": [
    {
     "name": "stdout",
     "output_type": "stream",
     "text": [
      "Successfully opened saved fluorescence data for SC032\n",
      "Successfully opened saved fluorescence data for SC020\n",
      "Successfully opened saved fluorescence data for SC023\n"
     ]
    }
   ],
   "source": [
    "bt.network_name = 'bt14' # default is Unet\n",
    "bt.Dataset('SC032', 'DA', 'r', 'b', fluorescence=True);\n",
    "bt.Dataset('SC020', 'LS', 'r', 'b', fluorescence=True);\n",
    "bt.Dataset('SC023', 'LV', 'r', 'b', fluorescence=True);"
   ]
  },
  {
   "cell_type": "code",
   "execution_count": 5,
   "id": "7018333f-ded8-4138-890d-1df1409e4712",
   "metadata": {},
   "outputs": [],
   "source": [
    "import matplotlib\n",
    "matplotlib.use('Agg')"
   ]
  },
  {
   "cell_type": "code",
   "execution_count": 6,
   "id": "0e32856a-578a-4a16-bc22-eeaa4db4b81b",
   "metadata": {
    "tags": []
   },
   "outputs": [
    {
     "name": "stderr",
     "output_type": "stream",
     "text": [
      "C:\\Users\\Sam\\miniconda3\\envs\\bt\\lib\\site-packages\\braintracer\\analysis.py:349: RuntimeWarning: More than 20 figures have been opened. Figures created through the pyplot interface (`matplotlib.pyplot.figure`) are retained until explicitly closed and may consume too much memory. (To control this warning, see the rcParam `figure.max_open_warning`). Consider using `matplotlib.pyplot.close()`.\n",
      "  plt.figure(figsize=figsize)\n"
     ]
    }
   ],
   "source": [
    "bt.datasets[2].show_slice_sequence((0,2528), figsize=(15,10), save=True)"
   ]
  },
  {
   "cell_type": "code",
   "execution_count": 4,
   "id": "6056ebaa-a1b2-4df3-a116-bd9e8936c3ad",
   "metadata": {},
   "outputs": [],
   "source": [
    "btf.create_gif('SC023', 'fuXT5cTjNn8xBTegNMX4d5', fps=80)"
   ]
  },
  {
   "cell_type": "code",
   "execution_count": null,
   "id": "d071dd71-72da-4d5c-a106-4a7bce0ee080",
   "metadata": {},
   "outputs": [],
   "source": []
  }
 ],
 "metadata": {
  "kernelspec": {
   "display_name": "Python 3 (ipykernel)",
   "language": "python",
   "name": "python3"
  },
  "language_info": {
   "codemirror_mode": {
    "name": "ipython",
    "version": 3
   },
   "file_extension": ".py",
   "mimetype": "text/x-python",
   "name": "python",
   "nbconvert_exporter": "python",
   "pygments_lexer": "ipython3",
   "version": "3.10.6"
  }
 },
 "nbformat": 4,
 "nbformat_minor": 5
}
